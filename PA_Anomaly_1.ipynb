{
 "cells": [
  {
   "cell_type": "code",
   "execution_count": 7,
   "metadata": {},
   "outputs": [],
   "source": [
    "import requests"
   ]
  },
  {
   "cell_type": "code",
   "execution_count": 8,
   "metadata": {},
   "outputs": [],
   "source": [
    "def get_json_for_state(state):\n",
    "\n",
    "    url = f'https://static01.nyt.com/elections-assets/2020/data/api/2020-11-03/state-page/{state}.json'\n",
    "    r = requests.get(url)\n",
    "    if r.status_code == 200:\n",
    "        return r.json()\n",
    "    else:\n",
    "        print(\n",
    "            f\"Something went wrong with state {state}. I'm outputing the raw response\")\n",
    "        return r"
   ]
  },
  {
   "cell_type": "code",
   "execution_count": 28,
   "metadata": {},
   "outputs": [],
   "source": [
    "california_json = get_json_for_state('pennsylvania')['data']"
   ]
  },
  {
   "cell_type": "code",
   "execution_count": 30,
   "metadata": {},
   "outputs": [],
   "source": [
    "pres_race = list(filter(lambda x: x[\"race_name\"] == \"President\", california_json['races']))[0]"
   ]
  },
  {
   "cell_type": "code",
   "execution_count": 31,
   "metadata": {},
   "outputs": [
    {
     "data": {
      "text/plain": [
       "dict_keys(['race_id', 'race_slug', 'url', 'state_page_url', 'ap_polls_page', 'edison_exit_polls_page', 'race_type', 'election_type', 'election_date', 'runoff', 'race_name', 'office', 'officeid', 'nyt_race_description', 'race_rating', 'seat', 'seat_name', 'state_id', 'state_slug', 'state_name', 'state_nyt_abbrev', 'state_shape', 'party_id', 'uncontested', 'report', 'result', 'result_source', 'gain', 'lost_seat', 'votes', 'electoral_votes', 'absentee_votes', 'absentee_counties', 'absentee_count_progress', 'absentee_outstanding', 'absentee_max_ballots', 'provisional_outstanding', 'provisional_count_progress', 'poll_display', 'poll_countdown_display', 'poll_waiting_display', 'poll_time', 'poll_time_short', 'precincts_reporting', 'precincts_total', 'reporting_display', 'reporting_value', 'eevp', 'tot_exp_vote', 'eevp_source', 'eevp_value', 'eevp_display', 'county_data_source', 'incumbent_party', 'no_forecast', 'last_updated', 'candidates', 'has_incumbent', 'leader_margin_value', 'leader_margin_votes', 'leader_margin_display', 'leader_margin_name_display', 'leader_party_id', 'counties', 'precinct_metadata', 'votes2016', 'margin2016', 'clinton2016', 'trump2016', 'votes2012', 'margin2012', 'expectations_text', 'expectations_text_short', 'absentee_ballot_deadline', 'absentee_postmark_deadline', 'update_sentences', 'race_diff', 'winnerCalledTimestamp', 'model_metadata', 'timeseries'])"
      ]
     },
     "execution_count": 31,
     "metadata": {},
     "output_type": "execute_result"
    }
   ],
   "source": [
    "pres_race.keys()"
   ]
  },
  {
   "cell_type": "code",
   "execution_count": 34,
   "metadata": {},
   "outputs": [
    {
     "data": {
      "text/plain": [
       "{'vote_shares': {'trumpd': 0, 'bidenj': 0},\n",
       " 'votes': 0,\n",
       " 'eevp': 0,\n",
       " 'eevp_source': 'edison',\n",
       " 'timestamp': '2020-11-04T09:25:23Z'}"
      ]
     },
     "execution_count": 34,
     "metadata": {},
     "output_type": "execute_result"
    }
   ],
   "source": [
    "pres_timeseries = pres_race[\"timeseries\"]\n",
    "pres_timeseries[0]"
   ]
  },
  {
   "cell_type": "code",
   "execution_count": 37,
   "metadata": {},
   "outputs": [],
   "source": [
    "hammer_active_idx = 0\n",
    "\n",
    "for i,update in enumerate(pres_timeseries):\n",
    "    if update[\"votes\"] == 2984468:\n",
    "        hammer_active_idx = i\n",
    "        break"
   ]
  },
  {
   "cell_type": "code",
   "execution_count": 48,
   "metadata": {},
   "outputs": [],
   "source": [
    "before_hammer = pres_timeseries[hammer_active_idx]\n",
    "after_hammer = pres_timeseries[hammer_active_idx+1]"
   ]
  },
  {
   "cell_type": "code",
   "execution_count": 64,
   "metadata": {},
   "outputs": [],
   "source": [
    "votes_djt_before = round(before_hammer[\"vote_shares\"][\"trumpd\"] * before_hammer[\"votes\"])\n",
    "votes_jrb_before = round(before_hammer[\"vote_shares\"][\"bidenj\"] * before_hammer[\"votes\"])\n",
    "votes_djt_after = round(after_hammer[\"vote_shares\"][\"trumpd\"] * after_hammer[\"votes\"])\n",
    "votes_jrb_after = round(after_hammer[\"vote_shares\"][\"bidenj\"] * after_hammer[\"votes\"])\n",
    "\n",
    "diff_djt = votes_djt_after - votes_djt_before\n",
    "diff_jrb = votes_jrb_after - votes_jrb_before\n",
    "diff_total = after_hammer[\"votes\"] - before_hammer[\"votes\"]"
   ]
  },
  {
   "cell_type": "code",
   "execution_count": 65,
   "metadata": {},
   "outputs": [
    {
     "name": "stdout",
     "output_type": "stream",
     "text": [
      "DJT VOTES BEFORE: 1689209\n",
      "JRB VOTES BEFORE: 1253477\n",
      "TOTAL BEFORE: 2984468\n",
      "\n",
      "DJT VOTES AFTER: 1671332\n",
      "JRB VOTES AFTER: 1271406\n",
      "TOTAL AFTER: 2984522\n",
      "\n",
      "DJT DIFF: -17877\n",
      "JRB DIFF: 17929\n",
      "TOTAL DIFF: 54\n"
     ]
    }
   ],
   "source": [
    "print(\"DJT VOTES BEFORE: {}\".format(votes_djt_before))\n",
    "print(\"JRB VOTES BEFORE: {}\".format(votes_jrb_before))\n",
    "print(\"TOTAL BEFORE: {}\\n\".format(before_hammer[\"votes\"]))\n",
    "\n",
    "print(\"DJT VOTES AFTER: {}\".format(votes_djt_after))\n",
    "print(\"JRB VOTES AFTER: {}\".format(votes_jrb_after))\n",
    "print(\"TOTAL AFTER: {}\\n\".format(after_hammer[\"votes\"]))\n",
    "\n",
    "\n",
    "print(\"DJT DIFF: {}\".format(diff_djt))\n",
    "print(\"JRB DIFF: {}\".format(diff_jrb))\n",
    "print(\"TOTAL DIFF: {}\".format(diff_total))"
   ]
  },
  {
   "cell_type": "code",
   "execution_count": null,
   "metadata": {},
   "outputs": [],
   "source": []
  }
 ],
 "metadata": {
  "kernelspec": {
   "display_name": "Python 3",
   "language": "python",
   "name": "python3"
  },
  "language_info": {
   "codemirror_mode": {
    "name": "ipython",
    "version": 3
   },
   "file_extension": ".py",
   "mimetype": "text/x-python",
   "name": "python",
   "nbconvert_exporter": "python",
   "pygments_lexer": "ipython3",
   "version": "3.8.3"
  }
 },
 "nbformat": 4,
 "nbformat_minor": 4
}
